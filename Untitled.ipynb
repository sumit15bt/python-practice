{
 "cells": [
  {
   "cell_type": "code",
   "execution_count": 69,
   "metadata": {},
   "outputs": [
    {
     "name": "stdout",
     "output_type": "stream",
     "text": [
      "8\n"
     ]
    }
   ],
   "source": [
    "def lcm(x,y):\n",
    "    if  x>y:\n",
    "        greater=x\n",
    "    else:\n",
    "        greater=y\n",
    "    while True:\n",
    "        if greater%x==0 and greater%y==0:\n",
    "            lcm=greater\n",
    "            break\n",
    "        greater+=1\n",
    "    return lcm\n",
    "\n",
    "print(lcm(4,8))\n"
   ]
  },
  {
   "cell_type": "code",
   "execution_count": 71,
   "metadata": {},
   "outputs": [
    {
     "name": "stdout",
     "output_type": "stream",
     "text": [
      "7\n"
     ]
    }
   ],
   "source": [
    "def hcf(x,y):\n",
    "    if x<y:\n",
    "        small=x\n",
    "    else:\n",
    "        small=y\n",
    "    for i in range(1,small+1):\n",
    "        if x%i==0 and y%i==0:\n",
    "            Hcf=i\n",
    "    return Hcf\n",
    "\n",
    "print(hcf(49,21))\n",
    "    "
   ]
  },
  {
   "cell_type": "code",
   "execution_count": 72,
   "metadata": {},
   "outputs": [
    {
     "name": "stdout",
     "output_type": "stream",
     "text": [
      "enter decimal no. 63\n",
      "0b111111 in Binary\n",
      "0o77 in Octal\n",
      "0x3f in  Hexadecimal\n"
     ]
    }
   ],
   "source": [
    "dec=int(input(\"enter decimal no. \"))\n",
    "print(bin(dec),\"in Binary\")\n",
    "print(oct(dec),\"in Octal\")\n",
    "print(hex(dec),\"in  Hexadecimal\")"
   ]
  },
  {
   "cell_type": "code",
   "execution_count": 73,
   "metadata": {},
   "outputs": [
    {
     "name": "stdout",
     "output_type": "stream",
     "text": [
      "enter a character  A\n",
      "A ASCII value =   65\n"
     ]
    }
   ],
   "source": [
    "c=input(\"enter a character  \")\n",
    "print(c,\"ASCII value =  \",ord(c))"
   ]
  },
  {
   "cell_type": "code",
   "execution_count": 77,
   "metadata": {},
   "outputs": [
    {
     "name": "stdout",
     "output_type": "stream",
     "text": [
      "enter terms6\n",
      "fibonacci sequence \n",
      "1\n",
      "1\n",
      "2\n",
      "3\n",
      "5\n"
     ]
    }
   ],
   "source": [
    "def  fibonacci_recu(n):\n",
    "    if n<=1:\n",
    "        return n\n",
    "    else:\n",
    "        return(fibonacci_recu(n-1)+fibonacci_recu(n-2))\n",
    "\n",
    "nt=int(input(\"enter terms\"))\n",
    "if nt<=0:\n",
    "      print(\"enter +ve terms\")\n",
    "else:\n",
    "    print(\"fibonacci sequence \")\n",
    "    for i in range(1,nt):\n",
    "        print(fibonacci_recu(i))\n",
    "      \n",
    "        \n",
    "    \n",
    "            \n",
    "    "
   ]
  },
  {
   "cell_type": "code",
   "execution_count": 78,
   "metadata": {},
   "outputs": [
    {
     "name": "stdout",
     "output_type": "stream",
     "text": [
      "120\n"
     ]
    }
   ],
   "source": [
    "def factorial_recursion(n):\n",
    "    fact=0\n",
    "    if n==1:\n",
    "        return 1\n",
    "    else:\n",
    "        return n*factorial_recursion(n-1)\n",
    "    \n",
    "print(factorial_recursion(5))"
   ]
  },
  {
   "cell_type": "code",
   "execution_count": 80,
   "metadata": {},
   "outputs": [
    {
     "name": "stdout",
     "output_type": "stream",
     "text": [
      "[9, 10, 11]\n",
      "[9, 10, 11]\n",
      "[11, 12, 13]\n"
     ]
    }
   ],
   "source": [
    "x=[[1,2,3],[4,5,6],[7,8,9]]\n",
    "y=[[8,8,8],[5,5,5],[4,4,4]]\n",
    "result=[[0,0,0],[0,0,0],[0,0,0]]\n",
    "#addition\n",
    "for i in range(len(x)):\n",
    "    for  j in range(len(x[0])):\n",
    "        result[i][j]=x[i][j]+y[i][j]\n",
    "\n",
    "for i in result:\n",
    "    print(i)"
   ]
  },
  {
   "cell_type": "code",
   "execution_count": 82,
   "metadata": {},
   "outputs": [
    {
     "data": {
      "text/plain": [
       "'\\nx=[[1,2,3],[4,5,6],[7,8,9]]\\ny=[[8,8,8],[5,5,5],[4,4,4]]\\nr=[[0,0,0],[0,0,0],[0,0,0]]\\n#multiplication\\nfor i in range(len(x)):\\n    for j in range(len(y[0])):\\n        for k in range(len(y)):\\n            r[i,j]+=x[i][k]*y[j][k]\\nfor i in result:\\n    print(i) '"
      ]
     },
     "execution_count": 82,
     "metadata": {},
     "output_type": "execute_result"
    }
   ],
   "source": [
    "\"\"\"\n",
    "x=[[1,2,3],[4,5,6],[7,8,9]]\n",
    "y=[[8,8,8],[5,5,5],[4,4,4]]\n",
    "r=[[0,0,0],[0,0,0],[0,0,0]]\n",
    "#multiplication\n",
    "for i in range(len(x)):\n",
    "    for j in range(len(y[0])):\n",
    "        for k in range(len(y)):\n",
    "            r[i,j]+=x[i][k]*y[j][k]\n",
    "for i in result:\n",
    "    print(i) \"\"\""
   ]
  },
  {
   "cell_type": "code",
   "execution_count": 83,
   "metadata": {},
   "outputs": [
    {
     "name": "stdout",
     "output_type": "stream",
     "text": [
      "enter  ur stringwe are the soul of purus and krishna is  one of  the  perbhrahma  \n",
      "we are the soul of purus and krishna is  one of  the  perbhrahma  \n",
      "['we', 'are', 'the', 'soul', 'of', 'purus', 'and', 'krishna', 'is', 'one', 'of', 'the', 'perbhrahma']\n",
      "and\n",
      "are\n",
      "is\n",
      "krishna\n",
      "of\n",
      "of\n",
      "one\n",
      "perbhrahma\n",
      "purus\n",
      "soul\n",
      "the\n",
      "the\n",
      "we\n"
     ]
    }
   ],
   "source": [
    "s=input(\"enter  ur string\")\n",
    "word=s.split()\n",
    "print(s)\n",
    "print(word)\n",
    "word.sort()\n",
    "for i in word:\n",
    "    print(i)"
   ]
  },
  {
   "cell_type": "code",
   "execution_count": 85,
   "metadata": {},
   "outputs": [
    {
     "name": "stdout",
     "output_type": "stream",
     "text": [
      "enter the string  you @ are, my friend-->\n",
      "you  are my friend\n"
     ]
    }
   ],
   "source": [
    "#define  puntuation\n",
    "punct='''!(){}[]-@#$%^&*;:_|\\/?,.<>~`'''\n",
    "my_str=input(\"enter the string  \")\n",
    "no_punc=\"\"\n",
    "for char in my_str:\n",
    "    if char not in punct:\n",
    "        no_punc=no_punc+char\n",
    "        \n",
    "print(no_punc)"
   ]
  },
  {
   "cell_type": "code",
   "execution_count": null,
   "metadata": {},
   "outputs": [],
   "source": []
  },
  {
   "cell_type": "code",
   "execution_count": null,
   "metadata": {},
   "outputs": [],
   "source": []
  },
  {
   "cell_type": "code",
   "execution_count": null,
   "metadata": {},
   "outputs": [],
   "source": []
  },
  {
   "cell_type": "code",
   "execution_count": null,
   "metadata": {},
   "outputs": [],
   "source": []
  },
  {
   "cell_type": "code",
   "execution_count": null,
   "metadata": {},
   "outputs": [],
   "source": []
  },
  {
   "cell_type": "code",
   "execution_count": null,
   "metadata": {},
   "outputs": [],
   "source": []
  },
  {
   "cell_type": "code",
   "execution_count": null,
   "metadata": {},
   "outputs": [],
   "source": []
  },
  {
   "cell_type": "code",
   "execution_count": null,
   "metadata": {},
   "outputs": [],
   "source": []
  }
 ],
 "metadata": {
  "kernelspec": {
   "display_name": "Python 3",
   "language": "python",
   "name": "python3"
  },
  "language_info": {
   "codemirror_mode": {
    "name": "ipython",
    "version": 3
   },
   "file_extension": ".py",
   "mimetype": "text/x-python",
   "name": "python",
   "nbconvert_exporter": "python",
   "pygments_lexer": "ipython3",
   "version": "3.6.5"
  }
 },
 "nbformat": 4,
 "nbformat_minor": 2
}
