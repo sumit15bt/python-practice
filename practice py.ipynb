{
 "cells": [
  {
   "cell_type": "code",
   "execution_count": 2,
   "metadata": {},
   "outputs": [
    {
     "name": "stdout",
     "output_type": "stream",
     "text": [
      "['a', 'b', 'v', 'e']\n"
     ]
    }
   ],
   "source": [
    "#remove dublicates\n",
    "d=['a','b','v','a','b','e']\n",
    "l=list(dict.fromkeys(d))\n",
    "print(l)"
   ]
  },
  {
   "cell_type": "code",
   "execution_count": 3,
   "metadata": {},
   "outputs": [
    {
     "name": "stdout",
     "output_type": "stream",
     "text": [
      "yug dab si amrahs timus\n"
     ]
    }
   ],
   "source": [
    "# remove dublicates\n",
    "txt=\"sumit sharma is bad guy\"\n",
    "print(txt[::-1])"
   ]
  },
  {
   "cell_type": "code",
   "execution_count": 4,
   "metadata": {},
   "outputs": [
    {
     "name": "stdout",
     "output_type": "stream",
     "text": [
      "drftg\n",
      "yiuoi\n",
      "oityt\n",
      "dfghj\n",
      "iitfd\n",
      "tdfgh\n",
      "kjlhf\n",
      "dszxd\n",
      "gjhkj\n",
      "mlhfd\n",
      "sdfhg\n",
      "jhkjf\n",
      "dszxc\n",
      "vbhkj\n",
      "uit\n"
     ]
    }
   ],
   "source": [
    "#no of characters together\n",
    "import textwrap\n",
    "\n",
    "a=\"drftgyiuoioitytdfghjiitfdtdfghkjlhfdszxdgjhkjmlhfdsdfhgjhkjfdszxcvbhkjuit\"\n",
    "width=5\n",
    "print(textwrap.fill(a,width))"
   ]
  },
  {
   "cell_type": "code",
   "execution_count": 13,
   "metadata": {},
   "outputs": [
    {
     "name": "stdout",
     "output_type": "stream",
     "text": [
      "6\n",
      "{0:{1}} {0:{1}o} {0:{1}x} {0:{1}b}\n",
      "{0:{1}} {0:{1}o} {0:{1}x} {0:{1}b}\n",
      "{0:{1}} {0:{1}o} {0:{1}x} {0:{1}b}\n",
      "{0:{1}} {0:{1}o} {0:{1}x} {0:{1}b}\n",
      "{0:{1}} {0:{1}o} {0:{1}x} {0:{1}b}\n",
      "{0:{1}} {0:{1}o} {0:{1}x} {0:{1}b}\n",
      "  0   0   0   0\n",
      "  1   1   1   1\n",
      "  2   2   2  10\n",
      "  3   3   3  11\n",
      "  4   4   4 100\n",
      "  5   5   5 101\n"
     ]
    }
   ],
   "source": [
    "# print decimal , hxa,binary,octal together\n",
    "\n",
    "n=int(input())\n",
    "for i in range(n):\n",
    "    print(\"{0:{1}} {0:{1}o} {0:{1}x} {0:{1}b}\")\n",
    "    \n",
    "for i in range(n):\n",
    "    print(\"{0:{1}} {0:{1}o} {0:{1}x} {0:{1}b}\".format(i,len(\"{0:b}\".format(n))))"
   ]
  },
  {
   "cell_type": "code",
   "execution_count": 15,
   "metadata": {},
   "outputs": [
    {
     "name": "stdout",
     "output_type": "stream",
     "text": [
      "Sumit Kumar Is Duffer Boy, He Is A Loosser\n"
     ]
    }
   ],
   "source": [
    "# capitalising first letter\n",
    "s=\"sumit kumar is duffer boy, he is a loosser\"\n",
    "s1=s[0].upper()\n",
    "\n",
    "for i in range(1,len(s)):\n",
    "    if s[i-1]==\" \":\n",
    "        s1=s1+s[i].upper()\n",
    "    else:\n",
    "        s1=s1+s[i]\n",
    "\n",
    "print(s1)"
   ]
  },
  {
   "cell_type": "code",
   "execution_count": 23,
   "metadata": {},
   "outputs": [
    {
     "name": "stdout",
     "output_type": "stream",
     "text": [
      "['AA', 'BC', 'AA', 'AD', 'A']\n"
     ]
    }
   ],
   "source": [
    "# remove consecutive iteration and wrap it to 2\n",
    "s1='AABCAAADA'\n",
    "k=2\n",
    "from collections import OrderedDict\n",
    "ls=[s1[i:i+k] for i in range(0,len(s1),k)]\n",
    "print(ls)"
   ]
  },
  {
   "cell_type": "code",
   "execution_count": 36,
   "metadata": {},
   "outputs": [
    {
     "name": "stdout",
     "output_type": "stream",
     "text": [
      "A\n",
      "BC\n",
      "A\n",
      "AD\n",
      "A\n",
      "ABCAADA\n",
      "AB\n",
      "CA\n",
      "AD\n",
      "A\n"
     ]
    }
   ],
   "source": [
    "ss=''\n",
    "for str in ls:\n",
    "    ss=ss+\"\".join(OrderedDict.fromkeys(str))\n",
    "    print(\"\".join(OrderedDict.fromkeys(str)))\n",
    "    \n",
    "print(ss)\n",
    "print(textwrap.fill(ss,k))"
   ]
  },
  {
   "cell_type": "code",
   "execution_count": 34,
   "metadata": {},
   "outputs": [
    {
     "name": "stdout",
     "output_type": "stream",
     "text": [
      "2 2\n",
      "1 2\n",
      "3 4\n",
      "[[1 2]\n",
      " [3 4]]\n",
      "[[1 3]\n",
      " [2 4]]\n",
      "[1 2 3 4]\n"
     ]
    }
   ],
   "source": [
    "import numpy\n",
    "#arr=numpy.array([[1,2],[3,4]])\n",
    "a,b=map(int,input().split())\n",
    "arr=numpy.array(list(input().split() for _ in range(a)),int)\n",
    "print(arr)\n",
    "print(numpy.transpose(arr))\n",
    "print(arr.flatten())"
   ]
  },
  {
   "cell_type": "code",
   "execution_count": 43,
   "metadata": {},
   "outputs": [
    {
     "name": "stdout",
     "output_type": "stream",
     "text": [
      "1 1 1\n",
      "[[0, 0, 1], [0, 0, 1], [0, 1, 1], [0, 1, 1], [1, 0, 1], [1, 0, 1], [1, 1, 1]]\n"
     ]
    }
   ],
   "source": [
    "# list comprehension\n",
    "x,y,z=map(int,input().split())\n",
    "n=3\n",
    "lst=[[a,b,x] for a in range(x+1) for b in range(y+1) for c in range(z+1) if a+b+c!=n]\n",
    "print(lst)\n"
   ]
  },
  {
   "cell_type": "code",
   "execution_count": 44,
   "metadata": {},
   "outputs": [
    {
     "name": "stdout",
     "output_type": "stream",
     "text": [
      "5 \n",
      "12 12 45 78 9\n",
      "45\n"
     ]
    }
   ],
   "source": [
    "# find runnerup score\n",
    "n=input()\n",
    "arr=list(set(map(int , input().split())))\n",
    "arr.sort()\n",
    "n=-2\n",
    "print(arr[n])"
   ]
  },
  {
   "cell_type": "code",
   "execution_count": 116,
   "metadata": {},
   "outputs": [
    {
     "name": "stdout",
     "output_type": "stream",
     "text": [
      "f 6 | d 4 | f 6 | t 7 | u 4 | i 4 | p 3 | o 3 | p 3 | i 4 | t 7 | r 3 | t 7 | e 3 | d 4 | x 4 | f 6 | h 5 | c 5 | v 5 | l 2 | h 5 | ; 1 | j 4 | o 3 | u 4 | t 7 | y 3 | t 7 | f 6 | c 5 | v 5 | h 5 | j 4 | b 4 | x 4 | z 4 | s 2 | a 4 | q 2 | a 4 | z 4 | z 4 | a 4 | q 2 | w 2 | e 3 | r 3 | t 7 | y 3 | u 4 | i 4 | k 2 | j 4 | h 5 | b 4 | v 5 | f 6 | c 5 | d 4 | x 4 | s 2 | c 5 | v 5 | b 4 | n 2 | m 3 | m 3 | l 2 | p 3 | o 3 | i 4 | u 4 | y 3 | t 7 | f 6 | r 3 | e 3 | d 4 | w 2 | a 4 | z 4 | x 4 | c 5 | v 5 | b 4 | h 5 | n 2 | j 4 | m 3 | k 2 | ['f', 'd', 't', 'u', 'i', 'p', 'o', 'r', 'e', 'x', 'h', 'c', 'v', 'l', ';', 'j', 'y', 'b', 'z', 's', 'a', 'q', 'w', 'k', 'n', 'm'] 2\n",
      "____________________________________________________________________________________________________\n",
      "Counter({'t': 7, 'f': 6, 'h': 5, 'c': 5, 'v': 5, 'd': 4, 'u': 4, 'i': 4, 'x': 4, 'j': 4, 'b': 4, 'z': 4, 'a': 4, 'p': 3, 'o': 3, 'r': 3, 'e': 3, 'y': 3, 'm': 3, 'l': 2, 's': 2, 'q': 2, 'w': 2, 'k': 2, 'n': 2, ';': 1})\n"
     ]
    }
   ],
   "source": [
    "# frequency of character in string\n",
    "txt='fdftuipopitrtedxfhcvlh;joutytfcvhjbxzsaqazzaqwertyuikjhbvfcdxscvbnmmlpoiuytfredwazxcvbhnjmk'\n",
    "#use count function\n",
    "for char in range(len(txt)):\n",
    "    counter=txt.count(txt[char])\n",
    "    print(txt[char],counter,sep=' ',end=\" | \")\n",
    "    \n",
    "txt1=list(dict.fromkeys(txt))\n",
    "print(txt1,counter)\n",
    "print(\"_\"*100)\n",
    "\n",
    "#Collection\n",
    "from collections import Counter\n",
    "mylist=[]\n",
    "mylist.extend(\"fdftuipopitrtedxfhcvlh;joutytfcvhjbxzsaqazzaqwertyuikjhbvfcdxscvbnmmlpoiuytfredwazxcvbhnjmk\")\n",
    "print(Counter(mylist))"
   ]
  },
  {
   "cell_type": "code",
   "execution_count": 60,
   "metadata": {},
   "outputs": [
    {
     "name": "stdout",
     "output_type": "stream",
     "text": [
      "4.0\n",
      "654\n",
      "9\n",
      "4\n",
      "120\n",
      "0.8939966636005579\n",
      "-0.4480736161291701\n",
      "-1.995200412208242\n",
      "18457+65+76+7*654/3\n"
     ]
    },
    {
     "data": {
      "text/plain": [
       "1724.0"
      ]
     },
     "execution_count": 60,
     "metadata": {},
     "output_type": "execute_result"
    }
   ],
   "source": [
    "import math\n",
    "print(math.sqrt(16))\n",
    "l=[23,46,78,98,654,9]\n",
    "print(max(l))\n",
    "print(min(l))\n",
    "print(math.ceil(3.8))\n",
    "print(math.factorial(5))\n",
    "print(math.sin(90))\n",
    "print(math.cos(90))\n",
    "print(math.tan(90))\n",
    "eval(input(5*4*9+4))"
   ]
  },
  {
   "cell_type": "code",
   "execution_count": 68,
   "metadata": {},
   "outputs": [
    {
     "name": "stdout",
     "output_type": "stream",
     "text": [
      "10 20 30\n",
      "10 20 30\n",
      "10 20 6.700000 sumit\n"
     ]
    }
   ],
   "source": [
    "#string format\n",
    "a,b,c=10,20,30\n",
    "print(\"{x} {y} {z}\".format(x=a,y=b,z=c))\n",
    "print(\"{} {} {}\".format(a,b,c)) # replacement operator\n",
    "s='sumit'\n",
    "f=6.7\n",
    "print('%i %d %f %s'%(a,b,f,s))"
   ]
  },
  {
   "cell_type": "code",
   "execution_count": 69,
   "metadata": {},
   "outputs": [
    {
     "name": "stdout",
     "output_type": "stream",
     "text": [
      "5\n",
      "\n",
      "*\n",
      "**\n",
      "***\n",
      "****\n"
     ]
    }
   ],
   "source": [
    "# pattern 1\n",
    "for i in range(int(input())):\n",
    "    print(\"*\"*i)"
   ]
  },
  {
   "cell_type": "code",
   "execution_count": 73,
   "metadata": {},
   "outputs": [
    {
     "name": "stdout",
     "output_type": "stream",
     "text": [
      "5\n",
      "      \n",
      "     * \n",
      "    * * \n",
      "   * * * \n",
      "  * * * * \n"
     ]
    }
   ],
   "source": [
    "# pattern2\n",
    "n=int(input())\n",
    "for i in range(n):\n",
    "    print(' '* (n-i),end=\" \")\n",
    "    print('* '*i)"
   ]
  },
  {
   "cell_type": "code",
   "execution_count": 76,
   "metadata": {},
   "outputs": [
    {
     "name": "stdout",
     "output_type": "stream",
     "text": [
      "<callable_iterator object at 0x7f6adc0e0d68>\n",
      "0 2 ab\n",
      "4 6 ab\n",
      "8 10 ab\n",
      "10 12 ab\n",
      "15 17 ab\n",
      "17 19 ab\n",
      "29 31 ab\n",
      "31 33 ab\n"
     ]
    }
   ],
   "source": [
    "# regular Expression\n",
    "import re\n",
    "p=re.compile('ab')\n",
    "matcher=re.finditer(p,'abaaabbbababbaaababbbbbbbbaaaabab')\n",
    "#matcher=p.finditer('abaaabbbababbaaababbbbbbbbaaaabab')\n",
    "print(matcher)\n",
    "\n",
    "for m in matcher:\n",
    "    print(m.start(),m.end(),m.group(),sep=' ')"
   ]
  },
  {
   "cell_type": "code",
   "execution_count": 82,
   "metadata": {},
   "outputs": [
    {
     "name": "stdout",
     "output_type": "stream",
     "text": [
      "0 5\n",
      "matched\n"
     ]
    }
   ],
   "source": [
    "s='sumit'\n",
    "m=re.match(s,'sumit is boy or girl ??') # match target only at begining of target string... \n",
    "if m != None:\n",
    "    print(m.start(),m.end(),sep=\" \")\n",
    "    \n",
    "\n",
    "s2='jay'\n",
    "m1=re.fullmatch(s2,'jay') #full target\n",
    "if m != None:\n",
    "    print(\"matched\")\n",
    "else:\n",
    "    print(\"not matched\")\n"
   ]
  },
  {
   "cell_type": "code",
   "execution_count": 87,
   "metadata": {},
   "outputs": [
    {
     "name": "stdout",
     "output_type": "stream",
     "text": [
      "ae\n",
      "0 2\n"
     ]
    }
   ],
   "source": [
    "ss=input()\n",
    "mm=re.search(ss,'aeiou st') # search first occurance\n",
    "if mm != None:\n",
    "    print(mm.start(),mm.end(),sep=\" \")\n"
   ]
  },
  {
   "cell_type": "code",
   "execution_count": 90,
   "metadata": {},
   "outputs": [
    {
     "name": "stdout",
     "output_type": "stream",
     "text": [
      "['5', '8', '7', '7', '8', '8', '9']\n",
      "['5', '877', '88', '9']\n"
     ]
    }
   ],
   "source": [
    "\n",
    "l=re.findall('[0-9]','abuh5thjj877tyvhj88vhjjjh9')\n",
    "print(l)\n",
    "\n",
    "l=re.findall('[0-9]+','abuh5thjj877tyvhj88vhjjjh9')\n",
    "print(l)"
   ]
  },
  {
   "cell_type": "code",
   "execution_count": 94,
   "metadata": {},
   "outputs": [
    {
     "name": "stdout",
     "output_type": "stream",
     "text": [
      "abuh#thjj#tyvhj#vhjjjh#\n",
      "('abuh#thjj#tyvhj#vhjjjh#', 4)\n",
      "['abuh', 'thjj', 'tyvhj', 'vhjjjh', '']\n"
     ]
    }
   ],
   "source": [
    "st=re.sub('[0-9]+','#','abuh5thjj877tyvhj88vhjjjh9')\n",
    "print(st)\n",
    "st=re.subn('[0-9]+','#','abuh5thjj877tyvhj88vhjjjh9')\n",
    "print(st)#also return no of substitution\n",
    "st=re.split('[0-9]+','abuh5thjj877tyvhj88vhjjjh9')\n",
    "print(st)#also return no of substitution"
   ]
  },
  {
   "cell_type": "code",
   "execution_count": null,
   "metadata": {},
   "outputs": [],
   "source": [
    "# re.fullmatch() or findall()\n",
    "mbno='[6-9]\\d{9}'\n",
    "mbno='[6-9][0-9]{9}'\n",
    "aadharvalidation='\\d{12}'\n",
    "mail='[\\w[a-zA-Z0-9.]@(gmail|redit|mail)[.][a-z]{2,3}]'\n",
    "gmail='[\\w[a-zA-Z0-9]@mail[.]com]'"
   ]
  },
  {
   "cell_type": "code",
   "execution_count": 96,
   "metadata": {},
   "outputs": [
    {
     "name": "stdout",
     "output_type": "stream",
     "text": [
      "1 2 3\n"
     ]
    }
   ],
   "source": [
    "#itertools\n",
    "from itertools import product \n",
    "A=[1,2,3]\n",
    "print(*A)"
   ]
  },
  {
   "cell_type": "code",
   "execution_count": 99,
   "metadata": {},
   "outputs": [
    {
     "name": "stdout",
     "output_type": "stream",
     "text": [
      "1 2\n",
      "3 4\n",
      "(1, 3) (1, 4) (2, 3) (2, 4)\n"
     ]
    }
   ],
   "source": [
    "x=list(map(int,input().split()))\n",
    "y=list(map(int,input().split()))\n",
    "print(product(x,y))\n",
    "print(*product(x,y))"
   ]
  },
  {
   "cell_type": "code",
   "execution_count": 101,
   "metadata": {},
   "outputs": [
    {
     "name": "stdout",
     "output_type": "stream",
     "text": [
      "HACK 2\n",
      "A C\n",
      "A H\n",
      "A K\n",
      "C A\n",
      "C H\n",
      "C K\n",
      "H A\n",
      "H C\n",
      "H K\n",
      "K A\n",
      "K C\n",
      "K H\n",
      "OR\n",
      "A C\n",
      "A H\n",
      "A K\n",
      "C A\n",
      "C H\n",
      "C K\n",
      "H A\n",
      "H C\n",
      "H K\n",
      "K A\n",
      "K C\n",
      "K H\n"
     ]
    }
   ],
   "source": [
    "from itertools import permutations \n",
    "s,l=input().split()\n",
    "l1=list(permutations(s,int(l)))\n",
    "for st in sorted(l1):\n",
    "    print(*st,sep=\" \") \n",
    "    \n",
    "print(\"OR\")\n",
    "\n",
    "for st in sorted(permutations(s,int(l))):\n",
    "    print(*st,sep=\" \") "
   ]
  },
  {
   "cell_type": "code",
   "execution_count": 105,
   "metadata": {},
   "outputs": [
    {
     "name": "stdout",
     "output_type": "stream",
     "text": [
      "HACK 2\n",
      "H A\n",
      "H C\n",
      "H K\n",
      "A C\n",
      "A K\n",
      "C K\n"
     ]
    }
   ],
   "source": [
    "from itertools import combinations # this return r length subsequences\n",
    "s,l=input().split()\n",
    "for st in list(combinations(s,int(l))):\n",
    "    print(*st,sep=\" \") \n",
    "    "
   ]
  },
  {
   "cell_type": "code",
   "execution_count": null,
   "metadata": {},
   "outputs": [],
   "source": []
  },
  {
   "cell_type": "code",
   "execution_count": 103,
   "metadata": {},
   "outputs": [
    {
     "name": "stdout",
     "output_type": "stream",
     "text": [
      "HACK 2\n",
      "A\n",
      "C\n",
      "H\n",
      "K\n",
      "A C\n",
      "A H\n",
      "A K\n",
      "C H\n",
      "C K\n",
      "H K\n"
     ]
    }
   ],
   "source": [
    "s,l=input().split()\n",
    "for i in range(1,int(l)+1):\n",
    "    l1=list(combinations(sorted(s),int(i)))\n",
    "    for i in sorted(l1):\n",
    "        print(*i,sep=\" \")"
   ]
  },
  {
   "cell_type": "code",
   "execution_count": 104,
   "metadata": {},
   "outputs": [
    {
     "name": "stdout",
     "output_type": "stream",
     "text": [
      "A A\n",
      "A C\n",
      "A H\n",
      "A K\n",
      "C C\n",
      "C H\n",
      "C K\n",
      "H H\n",
      "H K\n",
      "K K\n"
     ]
    }
   ],
   "source": [
    "from itertools import combinations_with_replacement as cwr\n",
    "for i in list(cwr(sorted(s),int(l))):\n",
    "    print(*i,sep=\" \")"
   ]
  },
  {
   "cell_type": "code",
   "execution_count": 119,
   "metadata": {},
   "outputs": [
    {
     "name": "stdout",
     "output_type": "stream",
     "text": [
      "<built-in method items of Counter object at 0x7f6adc0ec570>\n",
      "dict_keys(['f', 'd', 't', 'u', 'i', 'p', 'o', 'r', 'e', 'x', 'h', 'c', 'v', 'l', ';', 'j', 'y', 'b', 'z', 's', 'a', 'q', 'w', 'k', 'n', 'm'])\n",
      "dict_values([6, 4, 7, 4, 4, 3, 3, 3, 3, 4, 5, 5, 5, 2, 1, 4, 3, 4, 4, 2, 4, 2, 2, 2, 2, 3])\n",
      "Counter({'t': 7, 'f': 6, 'h': 5, 'c': 5, 'v': 5, 'd': 4, 'u': 4, 'i': 4, 'x': 4, 'j': 4, 'b': 4, 'z': 4, 'a': 4, 'p': 3, 'o': 3, 'r': 3, 'e': 3, 'y': 3, 'm': 3, 'l': 2, 's': 2, 'q': 2, 'w': 2, 'k': 2, 'n': 2, ';': 1})\n"
     ]
    }
   ],
   "source": [
    "#Collection\n",
    "from collections import Counter\n",
    "mylist=[]\n",
    "mylist.extend(\"fdftuipopitrtedxfhcvlh;joutytfcvhjbxzsaqazzaqwertyuikjhbvfcdxscvbnmmlpoiuytfredwazxcvbhnjmk\")\n",
    "cc=Counter(mylist)\n",
    "\n",
    "print(cc.items)\n",
    "print(cc.keys())\n",
    "print(cc.values())\n",
    "print(cc)"
   ]
  },
  {
   "cell_type": "code",
   "execution_count": null,
   "metadata": {},
   "outputs": [],
   "source": [
    "# Show shop question\n",
    "n_shoes=int(input())\n",
    "sizes=Counter(list(map(int,input().spit())))\n",
    "total=0\n",
    "for i in range(int(input())):\n",
    "    size,price=list(map(int,input().split()))\n",
    "    if sizes[size]:\n",
    "        totol+=price\n",
    "        sizes[size]-+1\n",
    "print(total)"
   ]
  },
  {
   "cell_type": "code",
   "execution_count": null,
   "metadata": {},
   "outputs": [],
   "source": [
    "# default dict\n",
    "from collections import defaultdict\n",
    "d=defaultdict()\n",
    "n,m=map(int,input().split())\n",
    "for i in range(n):\n",
    "    d[input()].append(i+1)\n",
    "for _ in range(m):\n",
    "    m1=input()\n",
    "    if m1 in d.keys():\n",
    "        print(*d[m1])\n",
    "    else:\n",
    "        print([-1])"
   ]
  },
  {
   "cell_type": "code",
   "execution_count": 122,
   "metadata": {},
   "outputs": [
    {
     "name": "stdout",
     "output_type": "stream",
     "text": [
      "4\n",
      "ab\n",
      "abcd\n",
      "bcdefg\n",
      "ab\n",
      "3\n",
      "2 1 1 "
     ]
    }
   ],
   "source": [
    "l=[]\n",
    "for _ in range(int(input())):\n",
    "    l.append(input())\n",
    "\n",
    "s=Counter(l)\n",
    "print(len(s))\n",
    "for x in s:\n",
    "    print(s[x],end=' ')"
   ]
  },
  {
   "cell_type": "code",
   "execution_count": 125,
   "metadata": {},
   "outputs": [
    {
     "name": "stdout",
     "output_type": "stream",
     "text": [
      "sxcykuhlkbbbbbbggdtdfuvkjjjjjjjj\n",
      "j 8\n",
      "b 6\n",
      "k 3\n"
     ]
    }
   ],
   "source": [
    "# Banner Name\n",
    "s=input()\n",
    "c=Counter(sorted(s))\n",
    "for i,j in c.most_common(3):\n",
    "    print(i,j)"
   ]
  },
  {
   "cell_type": "code",
   "execution_count": null,
   "metadata": {},
   "outputs": [],
   "source": []
  },
  {
   "cell_type": "code",
   "execution_count": null,
   "metadata": {},
   "outputs": [],
   "source": []
  },
  {
   "cell_type": "code",
   "execution_count": null,
   "metadata": {},
   "outputs": [],
   "source": []
  },
  {
   "cell_type": "code",
   "execution_count": null,
   "metadata": {},
   "outputs": [],
   "source": []
  },
  {
   "cell_type": "code",
   "execution_count": null,
   "metadata": {},
   "outputs": [],
   "source": []
  },
  {
   "cell_type": "code",
   "execution_count": null,
   "metadata": {},
   "outputs": [],
   "source": []
  },
  {
   "cell_type": "code",
   "execution_count": null,
   "metadata": {},
   "outputs": [],
   "source": []
  },
  {
   "cell_type": "code",
   "execution_count": null,
   "metadata": {},
   "outputs": [],
   "source": []
  },
  {
   "cell_type": "code",
   "execution_count": null,
   "metadata": {},
   "outputs": [],
   "source": []
  },
  {
   "cell_type": "code",
   "execution_count": null,
   "metadata": {},
   "outputs": [],
   "source": []
  },
  {
   "cell_type": "code",
   "execution_count": null,
   "metadata": {},
   "outputs": [],
   "source": []
  },
  {
   "cell_type": "code",
   "execution_count": null,
   "metadata": {},
   "outputs": [],
   "source": []
  },
  {
   "cell_type": "code",
   "execution_count": null,
   "metadata": {},
   "outputs": [],
   "source": []
  },
  {
   "cell_type": "code",
   "execution_count": null,
   "metadata": {},
   "outputs": [],
   "source": []
  },
  {
   "cell_type": "code",
   "execution_count": null,
   "metadata": {},
   "outputs": [],
   "source": []
  },
  {
   "cell_type": "code",
   "execution_count": null,
   "metadata": {},
   "outputs": [],
   "source": []
  },
  {
   "cell_type": "code",
   "execution_count": null,
   "metadata": {},
   "outputs": [],
   "source": []
  },
  {
   "cell_type": "code",
   "execution_count": null,
   "metadata": {},
   "outputs": [],
   "source": []
  },
  {
   "cell_type": "code",
   "execution_count": null,
   "metadata": {},
   "outputs": [],
   "source": []
  },
  {
   "cell_type": "code",
   "execution_count": null,
   "metadata": {},
   "outputs": [],
   "source": []
  },
  {
   "cell_type": "code",
   "execution_count": null,
   "metadata": {},
   "outputs": [],
   "source": []
  },
  {
   "cell_type": "code",
   "execution_count": null,
   "metadata": {},
   "outputs": [],
   "source": []
  },
  {
   "cell_type": "code",
   "execution_count": null,
   "metadata": {},
   "outputs": [],
   "source": []
  },
  {
   "cell_type": "code",
   "execution_count": null,
   "metadata": {},
   "outputs": [],
   "source": []
  },
  {
   "cell_type": "code",
   "execution_count": null,
   "metadata": {},
   "outputs": [],
   "source": []
  },
  {
   "cell_type": "code",
   "execution_count": null,
   "metadata": {},
   "outputs": [],
   "source": []
  },
  {
   "cell_type": "code",
   "execution_count": null,
   "metadata": {},
   "outputs": [],
   "source": []
  },
  {
   "cell_type": "code",
   "execution_count": null,
   "metadata": {},
   "outputs": [],
   "source": []
  },
  {
   "cell_type": "code",
   "execution_count": null,
   "metadata": {},
   "outputs": [],
   "source": []
  },
  {
   "cell_type": "code",
   "execution_count": null,
   "metadata": {},
   "outputs": [],
   "source": []
  },
  {
   "cell_type": "code",
   "execution_count": null,
   "metadata": {},
   "outputs": [],
   "source": []
  },
  {
   "cell_type": "code",
   "execution_count": null,
   "metadata": {},
   "outputs": [],
   "source": []
  },
  {
   "cell_type": "code",
   "execution_count": null,
   "metadata": {},
   "outputs": [],
   "source": []
  },
  {
   "cell_type": "code",
   "execution_count": null,
   "metadata": {},
   "outputs": [],
   "source": []
  },
  {
   "cell_type": "code",
   "execution_count": null,
   "metadata": {},
   "outputs": [],
   "source": []
  },
  {
   "cell_type": "code",
   "execution_count": null,
   "metadata": {},
   "outputs": [],
   "source": []
  },
  {
   "cell_type": "code",
   "execution_count": null,
   "metadata": {},
   "outputs": [],
   "source": []
  },
  {
   "cell_type": "code",
   "execution_count": null,
   "metadata": {},
   "outputs": [],
   "source": []
  },
  {
   "cell_type": "code",
   "execution_count": null,
   "metadata": {},
   "outputs": [],
   "source": []
  },
  {
   "cell_type": "code",
   "execution_count": null,
   "metadata": {},
   "outputs": [],
   "source": []
  },
  {
   "cell_type": "code",
   "execution_count": null,
   "metadata": {},
   "outputs": [],
   "source": []
  },
  {
   "cell_type": "code",
   "execution_count": null,
   "metadata": {},
   "outputs": [],
   "source": []
  },
  {
   "cell_type": "code",
   "execution_count": null,
   "metadata": {},
   "outputs": [],
   "source": []
  },
  {
   "cell_type": "code",
   "execution_count": null,
   "metadata": {},
   "outputs": [],
   "source": []
  },
  {
   "cell_type": "code",
   "execution_count": null,
   "metadata": {},
   "outputs": [],
   "source": []
  },
  {
   "cell_type": "code",
   "execution_count": null,
   "metadata": {},
   "outputs": [],
   "source": []
  },
  {
   "cell_type": "code",
   "execution_count": null,
   "metadata": {},
   "outputs": [],
   "source": []
  },
  {
   "cell_type": "code",
   "execution_count": null,
   "metadata": {},
   "outputs": [],
   "source": []
  },
  {
   "cell_type": "code",
   "execution_count": null,
   "metadata": {},
   "outputs": [],
   "source": []
  },
  {
   "cell_type": "code",
   "execution_count": null,
   "metadata": {},
   "outputs": [],
   "source": []
  },
  {
   "cell_type": "code",
   "execution_count": null,
   "metadata": {},
   "outputs": [],
   "source": []
  },
  {
   "cell_type": "code",
   "execution_count": null,
   "metadata": {},
   "outputs": [],
   "source": []
  },
  {
   "cell_type": "code",
   "execution_count": null,
   "metadata": {},
   "outputs": [],
   "source": []
  },
  {
   "cell_type": "code",
   "execution_count": null,
   "metadata": {},
   "outputs": [],
   "source": []
  }
 ],
 "metadata": {
  "kernelspec": {
   "display_name": "Python 3",
   "language": "python",
   "name": "python3"
  },
  "language_info": {
   "codemirror_mode": {
    "name": "ipython",
    "version": 3
   },
   "file_extension": ".py",
   "mimetype": "text/x-python",
   "name": "python",
   "nbconvert_exporter": "python",
   "pygments_lexer": "ipython3",
   "version": "3.6.7"
  }
 },
 "nbformat": 4,
 "nbformat_minor": 2
}
